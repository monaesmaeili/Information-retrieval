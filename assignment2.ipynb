{
 "cells": [
  {
   "cell_type": "code",
   "execution_count": 1,
   "metadata": {},
   "outputs": [],
   "source": [
    "#Mona Esmaeili"
   ]
  },
  {
   "cell_type": "code",
   "execution_count": 2,
   "metadata": {},
   "outputs": [],
   "source": [
    "import numpy as np, pandas as pd\n"
   ]
  },
  {
   "cell_type": "code",
   "execution_count": 3,
   "metadata": {
    "scrolled": true
   },
   "outputs": [],
   "source": [
    "graph = open('./graph.txt', 'r')\n",
    "data = graph.read() \n",
    "graph.close()\n",
    "data = data.replace('\\n', ' ').replace('\\r', ' ').replace('\\t', ' ').split()\n",
    "def datasplit(arrayofdata):\n",
    "    i=0\n",
    "    while(i<len(arrayofdata)):\n",
    "        yield arrayofdata[i:i+3]\n",
    "        i=i+3\n",
    "data = datasplit(data)\n",
    "data = list(data)"
   ]
  },
  {
   "cell_type": "code",
   "execution_count": 4,
   "metadata": {},
   "outputs": [],
   "source": [
    "a = {} \n",
    "b = {}\n",
    "edge=\"1\"\n",
    "for index in data:\n",
    "    element = index[0]\n",
    "    if element not in a:\n",
    "        a[element] = 0\n",
    "    if index[1] not in a: \n",
    "        a[index[1]] = 0\n",
    "    if index[2] == edge: \n",
    "\n",
    "        if element + \"\" + index[1] not in b: \n",
    "            a[element] += 1\n",
    "            b[element+\"=>\"+index[1]] = 1\n"
   ]
  },
  {
   "cell_type": "code",
   "execution_count": 5,
   "metadata": {},
   "outputs": [
    {
     "name": "stdout",
     "output_type": "stream",
     "text": [
      "Matrix: \n",
      "\n",
      "      A         B         C         D     E    F\n",
      "A  0.0  0.000000  0.000000  0.000000  0.00  0.0\n",
      "B  1.0  0.000000  0.333333  0.333333  0.25  0.0\n",
      "C  0.0  0.333333  0.000000  0.333333  0.25  0.0\n",
      "D  0.0  0.333333  0.333333  0.000000  0.25  0.0\n",
      "E  0.0  0.333333  0.333333  0.333333  0.00  0.0\n",
      "F  0.0  0.000000  0.000000  0.000000  0.25  0.0 \n",
      "\n"
     ]
    }
   ],
   "source": [
    "matrix = pd.DataFrame(columns=a.keys(), index=a.keys(), dtype=\"double\").fillna(0)\n",
    "for i in data:\n",
    "    if i[2] == \"1\":\n",
    "        matrix.at[i[1],i[0]] = 1 / a[i[0]]\n",
    "print(\"Matrix:\",\"\\n\\n\", matrix,\"\\n\")\n",
    "matrix = matrix.as_matrix() \n"
   ]
  },
  {
   "cell_type": "code",
   "execution_count": 6,
   "metadata": {},
   "outputs": [
    {
     "name": "stdout",
     "output_type": "stream",
     "text": [
      "[[0.025      0.025      0.025      0.025      0.025      0.025     ]\n",
      " [0.875      0.025      0.30833333 0.30833333 0.2375     0.025     ]\n",
      " [0.025      0.30833333 0.025      0.30833333 0.2375     0.025     ]\n",
      " [0.025      0.30833333 0.30833333 0.025      0.2375     0.025     ]\n",
      " [0.025      0.30833333 0.30833333 0.30833333 0.025      0.025     ]\n",
      " [0.025      0.025      0.025      0.025      0.2375     0.025     ]]\n",
      "[[0.16666667]\n",
      " [0.16666667]\n",
      " [0.16666667]\n",
      " [0.16666667]\n",
      " [0.16666667]\n",
      " [0.16666667]]\n"
     ]
    }
   ],
   "source": [
    "beta = 0.85 \n",
    "\n",
    "T = np.matrix([[1/6,1/6,1/6,1/6,1/6,1/6],\n",
    "               [1/6,1/6,1/6,1/6,1/6,1/6],\n",
    "               [1/6,1/6,1/6,1/6,1/6,1/6],\n",
    "               [1/6,1/6,1/6,1/6,1/6,1/6],\n",
    "               [1/6,1/6,1/6,1/6,1/6,1/6],\n",
    "               [1/6,1/6,1/6,1/6,1/6,1/6]])\n",
    "result1= beta * matrix\n",
    "reuslt2=(1-beta)*T\n",
    "\n",
    "secondmatrix=np.add(result1,reuslt2)\n",
    "print(secondmatrix)\n",
    "array = []\n",
    "i=0\n",
    "while(i<len(a)):\n",
    "    array.append(1 / len(a))\n",
    "    i=i+1\n",
    "orginalvector = np.matrix(array).T\n",
    "print(orginalvector)"
   ]
  },
  {
   "cell_type": "code",
   "execution_count": 7,
   "metadata": {},
   "outputs": [
    {
     "name": "stdout",
     "output_type": "stream",
     "text": [
      "[[0.00000000e+00]\n",
      " [1.25876784e-05]\n",
      " [1.25876784e-05]\n",
      " [1.25876784e-05]\n",
      " [1.34734421e-05]\n",
      " [3.60538370e-06]]\n",
      "\n",
      " step is 143\n",
      "[[0.025     ]\n",
      " [0.15901537]\n",
      " [0.14245693]\n",
      " [0.14245693]\n",
      " [0.15077911]\n",
      " [0.05704034]]\n",
      "\n",
      " step is 46\n"
     ]
    }
   ],
   "source": [
    "step = 0; \n",
    "vector = orginalvector\n",
    "vect1 = np.empty(shape=(len(a),1))  \n",
    "vect1.fill(-1) \n",
    "while(np.allclose(vector, vect1, rtol=1e-06, atol=1e-06) == 0): \n",
    "    vector = orginalvector\n",
    "    step += 1\n",
    "\n",
    "    vect1 =  matrix * orginalvector  \n",
    "    orginalvector = vect1\n",
    "\n",
    "print(vect1)\n",
    "print(\"\\n step is\", step)\n",
    "step = 0; \n",
    "vector = orginalvector\n",
    "vect1 = np.empty(shape=(len(a),1))  \n",
    "vect1.fill(0) \n",
    "teleport_factor = (1- beta) / len(a)  \n",
    "while(np.allclose(vector, vect1, rtol=1e-06, atol=1e-06) == 0): \n",
    "\n",
    "    vector = orginalvector\n",
    "    step = step+1\n",
    "    vect1 = beta * matrix * orginalvector +  teleport_factor\n",
    "    orginalvector = vect1\n",
    "\n",
    "print(vect1 ) \n",
    "print(\"\\n step is\", step)\n"
   ]
  },
  {
   "cell_type": "code",
   "execution_count": null,
   "metadata": {},
   "outputs": [],
   "source": []
  },
  {
   "cell_type": "code",
   "execution_count": null,
   "metadata": {},
   "outputs": [],
   "source": []
  }
 ],
 "metadata": {
  "kernelspec": {
   "display_name": "Python 3",
   "language": "python",
   "name": "python3"
  },
  "language_info": {
   "codemirror_mode": {
    "name": "ipython",
    "version": 3
   },
   "file_extension": ".py",
   "mimetype": "text/x-python",
   "name": "python",
   "nbconvert_exporter": "python",
   "pygments_lexer": "ipython3",
   "version": "3.6.4"
  }
 },
 "nbformat": 4,
 "nbformat_minor": 2
}
