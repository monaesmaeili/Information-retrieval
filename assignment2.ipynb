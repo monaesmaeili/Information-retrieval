{
 "cells": [
  {
   "cell_type": "code",
   "execution_count": 18,
   "metadata": {},
   "outputs": [],
   "source": [
    "#Mona Esmaeili"
   ]
  },
  {
   "cell_type": "code",
   "execution_count": 56,
   "metadata": {},
   "outputs": [],
   "source": [
    "import numpy as np, pandas as pd\n"
   ]
  },
  {
   "cell_type": "code",
   "execution_count": 57,
   "metadata": {
    "scrolled": true
   },
   "outputs": [],
   "source": [
    "graph = open('./graph.txt', 'r')\n",
    "data = graph.read() \n",
    "\n",
    "def parse(path):\n",
    "  g = gzip.open(path, 'rb')\n",
    "  for l in g:\n",
    "    print(l)\n",
    "    return (l)\n",
    "#     print(type(l))\n",
    "data = data.replace('\\n', ' ')\n",
    "def getDF(path):\n",
    "    i = 0\n",
    "    df = []\n",
    "    with gzip.open(path, 'rb') as g:\n",
    "        for l in g:\n",
    "\n",
    "            df.append(eval(l))\n",
    "\n",
    "    return df\n",
    "graph.close()\n",
    "data=data.replace('\\r', ' ')\n",
    "data=data.replace('\\t', ' ').split()\n",
    "def datasplit(arrayofdata):\n",
    "    i=0\n",
    "    while(i<len(arrayofdata)):\n",
    "        yield arrayofdata[i:i+3]\n",
    "        i=i+3\n",
    "data = datasplit(data)\n",
    "data = list(data)"
   ]
  },
  {
   "cell_type": "code",
   "execution_count": 58,
   "metadata": {},
   "outputs": [],
   "source": [
    "a = {} \n",
    "b = {}\n",
    "edge=\"1\"\n",
    "def matrix(self, v, visited, parent): \n",
    "        visited[v] = True\n",
    "        for i in self.graph[v]: \n",
    "            if visited[i] == False: \n",
    "                if self.isCyclicUtil(i, visited, v) == True: \n",
    "                    return True\n",
    "            elif i != parent: \n",
    "                return True\n",
    "  \n",
    "        return False\n",
    "for index in data:\n",
    "    element = index[0]\n",
    "    if element not in a:\n",
    "        a[element] = 0\n",
    "    if index[1] not in a: \n",
    "        a[index[1]] = 0\n",
    "    if index[2] == edge: \n",
    "\n",
    "        if element + \"\" + index[1] not in b: \n",
    "            a[element] = a[element]+1\n",
    "            b[element+\"=\"+index[1]] = 1\n"
   ]
  },
  {
   "cell_type": "code",
   "execution_count": 59,
   "metadata": {},
   "outputs": [
    {
     "name": "stdout",
     "output_type": "stream",
     "text": [
      "Matrix: \n",
      "\n",
      "      A         B         C         D     E    F\n",
      "A  0.0  0.000000  0.000000  0.000000  0.00  0.0\n",
      "B  1.0  0.000000  0.333333  0.333333  0.25  0.0\n",
      "C  0.0  0.333333  0.000000  0.333333  0.25  0.0\n",
      "D  0.0  0.333333  0.333333  0.000000  0.25  0.0\n",
      "E  0.0  0.333333  0.333333  0.333333  0.00  0.0\n",
      "F  0.0  0.000000  0.000000  0.000000  0.25  0.0 \n",
      "\n"
     ]
    }
   ],
   "source": [
    "matrix = pd.DataFrame(columns=a.keys(), index=a.keys(), dtype=\"double\").fillna(0)\n",
    "def create_matrix(m, n):\n",
    "    return [[0]*n for _ in xrange(m)]\n",
    "for i in data:\n",
    "    if i[2] == \"1\":\n",
    "        matrix.at[i[1],i[0]] = 1 / a[i[0]]\n",
    "print(\"Matrix:\",\"\\n\\n\", matrix,\"\\n\")\n",
    "matrix = matrix.as_matrix() \n"
   ]
  },
  {
   "cell_type": "code",
   "execution_count": 55,
   "metadata": {},
   "outputs": [
    {
     "name": "stdout",
     "output_type": "stream",
     "text": [
      "[[0.025      0.025      0.025      0.025      0.025      0.025     ]\n",
      " [0.875      0.025      0.30833333 0.30833333 0.2375     0.025     ]\n",
      " [0.025      0.30833333 0.025      0.30833333 0.2375     0.025     ]\n",
      " [0.025      0.30833333 0.30833333 0.025      0.2375     0.025     ]\n",
      " [0.025      0.30833333 0.30833333 0.30833333 0.025      0.025     ]\n",
      " [0.025      0.025      0.025      0.025      0.2375     0.025     ]]\n",
      "[[0.16666667]\n",
      " [0.16666667]\n",
      " [0.16666667]\n",
      " [0.16666667]\n",
      " [0.16666667]\n",
      " [0.16666667]]\n"
     ]
    }
   ],
   "source": [
    "beta = 0.85 \n",
    "max_iter=0\n",
    "\n",
    "for _ in range(max_iter): \n",
    "        xlast = x \n",
    "        x = dict.fromkeys(xlast.keys(), 0) \n",
    "        danglesum = alpha * sum(xlast[n] for n in dangling_nodes) \n",
    "        for n in x: \n",
    "  \n",
    "            # this matrix multiply looks odd because it is \n",
    "            # doing a left multiply x^T=xlast^T*W \n",
    "            for nbr in W[n]: \n",
    "                x[nbr] += alpha * xlast[n] * W[n][nbr][weight] \n",
    "            x[n] += danglesum * dangling_weights[n] + (1.0 - alpha) * p[n] \n",
    "            \n",
    "tree = np.matrix([[1/6,1/6,1/6,1/6,1/6,1/6],\n",
    "               [1/6,1/6,1/6,1/6,1/6,1/6],\n",
    "               [1/6,1/6,1/6,1/6,1/6,1/6],\n",
    "               [1/6,1/6,1/6,1/6,1/6,1/6],\n",
    "               [1/6,1/6,1/6,1/6,1/6,1/6],\n",
    "               [1/6,1/6,1/6,1/6,1/6,1/6]])\n",
    "result1= beta * matrix\n",
    "reuslt2=(1-beta)*tree\n",
    "\n",
    "secondmatrix=np.add(result1,reuslt2)\n",
    "print(secondmatrix)\n",
    "array = []\n",
    "i=0\n",
    "while(i<len(a)):\n",
    "    array.append(1 / len(a))\n",
    "    i=i+1\n",
    "orginalvector = np.matrix(array).T\n",
    "print(orginalvector)"
   ]
  },
  {
   "cell_type": "code",
   "execution_count": 53,
   "metadata": {},
   "outputs": [
    {
     "name": "stdout",
     "output_type": "stream",
     "text": [
      "[[0.00000000e+00]\n",
      " [1.25876784e-05]\n",
      " [1.25876784e-05]\n",
      " [1.25876784e-05]\n",
      " [1.34734421e-05]\n",
      " [3.60538370e-06]]\n",
      "\n",
      " step is 143\n",
      "[[0.025     ]\n",
      " [0.15901537]\n",
      " [0.14245693]\n",
      " [0.14245693]\n",
      " [0.15077911]\n",
      " [0.05704034]]\n",
      "\n",
      " step is 46\n"
     ]
    }
   ],
   "source": [
    "step = 0; \n",
    "vector = orginalvector\n",
    "vect1 = np.empty(shape=(len(a),1))  \n",
    "vect1.fill(-1) \n",
    "while(np.allclose(vector, vect1, rtol=1e-06, atol=1e-06) == 0): \n",
    "    vector = orginalvector\n",
    "    step += 1\n",
    "\n",
    "    vect1 =  matrix * orginalvector  \n",
    "    orginalvector = vect1\n",
    "\n",
    "print(vect1)\n",
    "print(\"\\n step is\", step)\n",
    "step = 0; \n",
    "vector = orginalvector\n",
    "vect1 = np.empty(shape=(len(a),1))  \n",
    "vect1.fill(0) \n",
    "i = (1- beta) / len(a)  \n",
    "while(np.allclose(vector, vect1, rtol=1e-06, atol=1e-06) == 0): \n",
    "\n",
    "    vector = orginalvector\n",
    "    step = step+1\n",
    "    vect1 = beta * matrix * orginalvector +  i\n",
    "    orginalvector = vect1\n",
    "\n",
    "print(vect1 ) \n",
    "print(\"\\n step is\", step)\n"
   ]
  },
  {
   "cell_type": "code",
   "execution_count": null,
   "metadata": {},
   "outputs": [],
   "source": []
  },
  {
   "cell_type": "code",
   "execution_count": null,
   "metadata": {},
   "outputs": [],
   "source": []
  }
 ],
 "metadata": {
  "kernelspec": {
   "display_name": "Python 3",
   "language": "python",
   "name": "python3"
  },
  "language_info": {
   "codemirror_mode": {
    "name": "ipython",
    "version": 3
   },
   "file_extension": ".py",
   "mimetype": "text/x-python",
   "name": "python",
   "nbconvert_exporter": "python",
   "pygments_lexer": "ipython3",
   "version": "3.6.4"
  }
 },
 "nbformat": 4,
 "nbformat_minor": 2
}
